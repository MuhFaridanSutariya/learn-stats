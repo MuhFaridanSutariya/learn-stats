{
 "cells": [
  {
   "cell_type": "code",
   "execution_count": 3,
   "id": "6e84525d-9c3c-48a2-acd5-5698d7238402",
   "metadata": {},
   "outputs": [
    {
     "name": "stdout",
     "output_type": "stream",
     "text": [
      "E: 2.448190377603018\n",
      "Interval : from 27.151809622396982 to 32.04819037760302\n"
     ]
    }
   ],
   "source": [
    "# Cara pertama\n",
    "from scipy import stats\n",
    "import math\n",
    "\n",
    "c = 95/100\n",
    "sigma = 7.9\n",
    "x_bar = 29.6\n",
    "n = 40\n",
    "p = 1 - ((1-c) / 2)\n",
    "zc = stats.norm.ppf(p)\n",
    "\n",
    "E = zc * sigma / math.sqrt(n)\n",
    "print(f'E: {E}')\n",
    "\n",
    "print(f'Interval : from {x_bar-E} to {x_bar+E}')"
   ]
  },
  {
   "cell_type": "code",
   "execution_count": 4,
   "id": "3c2e09df-de44-46e2-952d-ed9547d4a344",
   "metadata": {},
   "outputs": [
    {
     "data": {
      "text/plain": [
       "(27.151809622396982, 32.04819037760302)"
      ]
     },
     "execution_count": 4,
     "metadata": {},
     "output_type": "execute_result"
    }
   ],
   "source": [
    "# Cara Kedua\n",
    "from scipy import stats\n",
    "from math import sqrt\n",
    "\n",
    "n = 40\n",
    "sigma = 7.9\n",
    "x_bar = 29.6\n",
    "c = 95/100\n",
    "sigma_x_bar = sigma/sqrt(n)\n",
    "\n",
    "stats.norm.interval(c, loc=x_bar, scale=sigma_x_bar)"
   ]
  },
  {
   "cell_type": "code",
   "execution_count": null,
   "id": "224bbb48-3aef-48f6-9740-d5e0cc12a0c4",
   "metadata": {},
   "outputs": [],
   "source": []
  },
  {
   "cell_type": "code",
   "execution_count": null,
   "id": "e3f79a97-fb94-4e43-9ad1-a541cbbac961",
   "metadata": {},
   "outputs": [],
   "source": []
  }
 ],
 "metadata": {
  "kernelspec": {
   "display_name": "Python 3 (ipykernel)",
   "language": "python",
   "name": "python3"
  },
  "language_info": {
   "codemirror_mode": {
    "name": "ipython",
    "version": 3
   },
   "file_extension": ".py",
   "mimetype": "text/x-python",
   "name": "python",
   "nbconvert_exporter": "python",
   "pygments_lexer": "ipython3",
   "version": "3.7.12"
  }
 },
 "nbformat": 4,
 "nbformat_minor": 5
}
