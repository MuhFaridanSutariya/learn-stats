{
 "cells": [
  {
   "cell_type": "code",
   "execution_count": 3,
   "id": "6e84525d-9c3c-48a2-acd5-5698d7238402",
   "metadata": {},
   "outputs": [
    {
     "name": "stdout",
     "output_type": "stream",
     "text": [
      "106.55744711111112\n"
     ]
    }
   ],
   "source": [
    "c = 0.95\n",
    "zc = 1.96\n",
    "sigma = 7.9\n",
    "E = 1.5\n",
    "n = (zc * sigma / E)**2\n",
    "print(n)"
   ]
  }
 ],
 "metadata": {
  "kernelspec": {
   "display_name": "Python 3 (ipykernel)",
   "language": "python",
   "name": "python3"
  },
  "language_info": {
   "codemirror_mode": {
    "name": "ipython",
    "version": 3
   },
   "file_extension": ".py",
   "mimetype": "text/x-python",
   "name": "python",
   "nbconvert_exporter": "python",
   "pygments_lexer": "ipython3",
   "version": "3.7.12"
  }
 },
 "nbformat": 4,
 "nbformat_minor": 5
}
