{
 "cells": [
  {
   "cell_type": "code",
   "execution_count": 3,
   "id": "6e84525d-9c3c-48a2-acd5-5698d7238402",
   "metadata": {},
   "outputs": [
    {
     "name": "stdout",
     "output_type": "stream",
     "text": [
      "xr2 : 0.025000000000000022\n",
      "xl2 : 0.975\n",
      "xr2_critical : 30.19100912163982\n",
      "xl2_critical : 7.56418644957757\n"
     ]
    }
   ],
   "source": [
    "from scipy.stats import chi2\n",
    "from math import sqrt\n",
    "\n",
    "n = 18\n",
    "df = n - 1\n",
    "c = 0.95\n",
    "\n",
    "xr2 = (1 - c) / 2\n",
    "xl2 = (1 + c) / 2\n",
    "\n",
    "print(f'xr2 : {xr2}')\n",
    "print(f'xl2 : {xl2}')\n",
    "\n",
    "#cdf untuk mendapatkan luas area under curve ketika diketahui nilai critical valuenya\n",
    "#ppf untuk mendapatkan critical value ketika kita mengetahui area under curve  \n",
    "xr2_critical = chi2.ppf(1-xr2, df)\n",
    "xl2_critical = chi2.ppf(1-xl2, df)\n",
    "print(f'xr2_critical : {xr2_critical}')\n",
    "print(f'xl2_critical : {xl2_critical}')"
   ]
  },
  {
   "cell_type": "code",
   "execution_count": 4,
   "id": "fd54e7ac-7ae5-486b-bbde-7fa979b44007",
   "metadata": {},
   "outputs": [
    {
     "data": {
      "text/plain": [
       "(7.56418644957757, 30.19100912163982)"
      ]
     },
     "execution_count": 4,
     "metadata": {},
     "output_type": "execute_result"
    }
   ],
   "source": [
    "chi2.interval(c, df)"
   ]
  },
  {
   "cell_type": "code",
   "execution_count": null,
   "id": "7cca1a27-df06-401b-b34c-5ce25dd58e40",
   "metadata": {},
   "outputs": [],
   "source": []
  }
 ],
 "metadata": {
  "kernelspec": {
   "display_name": "Python 3 (ipykernel)",
   "language": "python",
   "name": "python3"
  },
  "language_info": {
   "codemirror_mode": {
    "name": "ipython",
    "version": 3
   },
   "file_extension": ".py",
   "mimetype": "text/x-python",
   "name": "python",
   "nbconvert_exporter": "python",
   "pygments_lexer": "ipython3",
   "version": "3.7.12"
  }
 },
 "nbformat": 4,
 "nbformat_minor": 5
}
