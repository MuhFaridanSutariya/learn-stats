{
 "cells": [
  {
   "cell_type": "code",
   "execution_count": 22,
   "id": "6e84525d-9c3c-48a2-acd5-5698d7238402",
   "metadata": {},
   "outputs": [
    {
     "name": "stdout",
     "output_type": "stream",
     "text": [
      "tc: 2.131449545559323\n",
      "E: 5.328623863898308\n",
      "Left End Point: 156.67137613610169\n",
      "Right End Point: 167.32862386389831\n"
     ]
    }
   ],
   "source": [
    "#cara pertama\n",
    "from scipy.stats import t\n",
    "from math import sqrt\n",
    "\n",
    "n = 16\n",
    "df = n - 1\n",
    "c = 95/100\n",
    "s = 10\n",
    "x_bar = 162\n",
    "p = 1 - ((1-c)/2)\n",
    "\n",
    "tc = t.ppf(p , df)\n",
    "print(f'tc: {tc}')\n",
    "\n",
    "E = tc * s / sqrt(n)\n",
    "print(f'E: {E}')\n",
    "\n",
    "print(f'Left End Point: {x_bar - E}')\n",
    "print(f'Right End Point: {x_bar + E}')"
   ]
  },
  {
   "cell_type": "code",
   "execution_count": 24,
   "id": "792aeb2a-05f9-442d-8301-c405eda4ea3f",
   "metadata": {},
   "outputs": [
    {
     "data": {
      "text/plain": [
       "(156.67137613610169, 167.32862386389831)"
      ]
     },
     "execution_count": 24,
     "metadata": {},
     "output_type": "execute_result"
    }
   ],
   "source": [
    "# Cara Kedua\n",
    "from scipy import stats\n",
    "from math import sqrt\n",
    "\n",
    "n = 16\n",
    "df = n - 1\n",
    "c = 95/100\n",
    "s = 10\n",
    "x_bar = 162\n",
    "\n",
    "t.interval(c, df, loc=x_bar, scale=s/sqrt(n))"
   ]
  },
  {
   "cell_type": "code",
   "execution_count": null,
   "id": "fd54e7ac-7ae5-486b-bbde-7fa979b44007",
   "metadata": {},
   "outputs": [],
   "source": []
  }
 ],
 "metadata": {
  "kernelspec": {
   "display_name": "Python 3 (ipykernel)",
   "language": "python",
   "name": "python3"
  },
  "language_info": {
   "codemirror_mode": {
    "name": "ipython",
    "version": 3
   },
   "file_extension": ".py",
   "mimetype": "text/x-python",
   "name": "python",
   "nbconvert_exporter": "python",
   "pygments_lexer": "ipython3",
   "version": "3.7.12"
  }
 },
 "nbformat": 4,
 "nbformat_minor": 5
}
