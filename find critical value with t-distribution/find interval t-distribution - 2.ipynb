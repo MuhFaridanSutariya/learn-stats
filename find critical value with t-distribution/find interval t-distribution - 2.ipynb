{
 "cells": [
  {
   "cell_type": "code",
   "execution_count": 3,
   "id": "6e84525d-9c3c-48a2-acd5-5698d7238402",
   "metadata": {},
   "outputs": [
    {
     "name": "stdout",
     "output_type": "stream",
     "text": [
      "zc: 2.585757619531686\n",
      "E : 0.052577667429680196\n",
      "Left End Point : 0.6574223325703198\n",
      "Right End Point : 0.7625776674296801\n"
     ]
    }
   ],
   "source": [
    "from scipy.stats import t\n",
    "from math import sqrt\n",
    "\n",
    "n = 498\n",
    "df = n - 1\n",
    "c = 0.99\n",
    "\n",
    "#p_hat = x / n = 372 / 1000\n",
    "p_hat = 0.71\n",
    "q_hat = 1 - p_hat\n",
    "\n",
    "zc = t.ppf(1 - ((1-c)/2), df)\n",
    "print(f'zc: {zc}')\n",
    "\n",
    "E = zc * sqrt(p_hat * q_hat / n)\n",
    "print(f'E : {E}')\n",
    "print(f'Left End Point : {p_hat - E}')\n",
    "print(f'Right End Point : {p_hat + E}')"
   ]
  },
  {
   "cell_type": "code",
   "execution_count": 4,
   "id": "fd54e7ac-7ae5-486b-bbde-7fa979b44007",
   "metadata": {},
   "outputs": [
    {
     "data": {
      "text/plain": [
       "(0.6574223325703198, 0.7625776674296801)"
      ]
     },
     "execution_count": 4,
     "metadata": {},
     "output_type": "execute_result"
    }
   ],
   "source": [
    "t.interval(c, df, loc=p_hat, scale=sqrt(p_hat * q_hat / n))"
   ]
  },
  {
   "cell_type": "code",
   "execution_count": null,
   "id": "7cca1a27-df06-401b-b34c-5ce25dd58e40",
   "metadata": {},
   "outputs": [],
   "source": []
  }
 ],
 "metadata": {
  "kernelspec": {
   "display_name": "Python 3 (ipykernel)",
   "language": "python",
   "name": "python3"
  },
  "language_info": {
   "codemirror_mode": {
    "name": "ipython",
    "version": 3
   },
   "file_extension": ".py",
   "mimetype": "text/x-python",
   "name": "python",
   "nbconvert_exporter": "python",
   "pygments_lexer": "ipython3",
   "version": "3.7.12"
  }
 },
 "nbformat": 4,
 "nbformat_minor": 5
}
