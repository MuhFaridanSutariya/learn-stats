{
 "cells": [
  {
   "cell_type": "code",
   "execution_count": 4,
   "id": "6e84525d-9c3c-48a2-acd5-5698d7238402",
   "metadata": {},
   "outputs": [
    {
     "name": "stdout",
     "output_type": "stream",
     "text": [
      "tc: 2.1447866879169273\n"
     ]
    }
   ],
   "source": [
    "from scipy.stats import t\n",
    "\n",
    "n = 15\n",
    "df = n - 1\n",
    "c = 95/100\n",
    "p = 1 - ((1-c)/2)\n",
    "\n",
    "tc = t.ppf(p , df)\n",
    "print(f'tc: {tc}')"
   ]
  },
  {
   "cell_type": "code",
   "execution_count": null,
   "id": "792aeb2a-05f9-442d-8301-c405eda4ea3f",
   "metadata": {},
   "outputs": [],
   "source": []
  }
 ],
 "metadata": {
  "kernelspec": {
   "display_name": "Python 3 (ipykernel)",
   "language": "python",
   "name": "python3"
  },
  "language_info": {
   "codemirror_mode": {
    "name": "ipython",
    "version": 3
   },
   "file_extension": ".py",
   "mimetype": "text/x-python",
   "name": "python",
   "nbconvert_exporter": "python",
   "pygments_lexer": "ipython3",
   "version": "3.7.12"
  }
 },
 "nbformat": 4,
 "nbformat_minor": 5
}
