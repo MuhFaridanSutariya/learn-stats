{
 "cells": [
  {
   "cell_type": "code",
   "execution_count": 6,
   "id": "b5c260cf-95a4-4203-bff7-cffe489c1422",
   "metadata": {},
   "outputs": [
    {
     "name": "stdout",
     "output_type": "stream",
     "text": [
      "12.92\n",
      "8.12\n",
      "9\n"
     ]
    }
   ],
   "source": [
    "# mu/mean\n",
    "mu = 9\n",
    "sigma = 2\n",
    "z_scores = [1.96,-0.44,0]\n",
    "for z_score in z_scores:\n",
    "    x = mu + z_score * sigma\n",
    "    print(x)"
   ]
  },
  {
   "cell_type": "code",
   "execution_count": null,
   "id": "8758746f-7817-444a-a4e4-39cb30af8196",
   "metadata": {},
   "outputs": [],
   "source": []
  }
 ],
 "metadata": {
  "kernelspec": {
   "display_name": "Python 3 (ipykernel)",
   "language": "python",
   "name": "python3"
  },
  "language_info": {
   "codemirror_mode": {
    "name": "ipython",
    "version": 3
   },
   "file_extension": ".py",
   "mimetype": "text/x-python",
   "name": "python",
   "nbconvert_exporter": "python",
   "pygments_lexer": "ipython3",
   "version": "3.7.12"
  }
 },
 "nbformat": 4,
 "nbformat_minor": 5
}
