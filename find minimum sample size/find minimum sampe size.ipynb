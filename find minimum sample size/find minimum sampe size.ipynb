{
 "cells": [
  {
   "cell_type": "code",
   "execution_count": 6,
   "id": "b5c260cf-95a4-4203-bff7-cffe489c1422",
   "metadata": {},
   "outputs": [
    {
     "name": "stdout",
     "output_type": "stream",
     "text": [
      "zc : -1.959963984540054\n",
      "N : 1067.1111111111109\n"
     ]
    }
   ],
   "source": [
    "# if we not have a preliminary estimate of p_hat, then use p_hat = 0.5 and q_hat = 0.5\n",
    "from scipy import stats\n",
    "import math\n",
    "c = 0.95\n",
    "p_hat = 0.5\n",
    "q_hat = 0.5\n",
    "p = (1 - c) / 2 \n",
    "zc = stats.norm.ppf(p)\n",
    "print(f'zc : {zc}')\n",
    "\n",
    "n = p_hat * q_hat * (1.96/0.03)**2\n",
    "print(f'N : {n}')"
   ]
  },
  {
   "cell_type": "code",
   "execution_count": 9,
   "id": "8758746f-7817-444a-a4e4-39cb30af8196",
   "metadata": {},
   "outputs": [
    {
     "name": "stdout",
     "output_type": "stream",
     "text": [
      "zc : -1.959963984540054\n",
      "N : 913.0202666666663\n"
     ]
    }
   ],
   "source": [
    "# if we have a preliminary estimate of p_hat, then use p_hat = 0.31 and q_hat = 1 - p_hat\n",
    "from scipy import stats\n",
    "import math\n",
    "c = 0.95\n",
    "p_hat = 0.31\n",
    "q_hat = 1 - p_hat\n",
    "p = (1 - c) / 2 \n",
    "zc = stats.norm.ppf(p)\n",
    "print(f'zc : {zc}')\n",
    "\n",
    "n = p_hat * q_hat * (1.96/0.03)**2\n",
    "print(f'N : {n}')"
   ]
  },
  {
   "cell_type": "code",
   "execution_count": null,
   "id": "3abf3557-f4cc-4075-9f7b-97c332453c13",
   "metadata": {},
   "outputs": [],
   "source": []
  }
 ],
 "metadata": {
  "kernelspec": {
   "display_name": "Python 3 (ipykernel)",
   "language": "python",
   "name": "python3"
  },
  "language_info": {
   "codemirror_mode": {
    "name": "ipython",
    "version": 3
   },
   "file_extension": ".py",
   "mimetype": "text/x-python",
   "name": "python",
   "nbconvert_exporter": "python",
   "pygments_lexer": "ipython3",
   "version": "3.7.12"
  }
 },
 "nbformat": 4,
 "nbformat_minor": 5
}
